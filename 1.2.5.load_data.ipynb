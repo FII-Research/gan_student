{
 "cells": [
  {
   "cell_type": "markdown",
   "metadata": {},
   "source": [
    "**This notebook will go over:**\n",
    "\n",
    "- The Machine Learning Pipeline\n",
    "  - 🟦Importing\n",
    "  - 🟧Data Preprocessing\n",
    "  - 🟩GAN Building\n",
    "  - 🟥Training\n",
    "  - 🟪Testing\n",
    "\n",
    "\n",
    "---\n",
    "\n",
    "<br>\n",
    "\n",
    "**Guide to completing this project:**\n",
    "- Codes (1,2,3,4,5) indicate where in the notebook / ML pipeline you are in\n",
    "- Sections labeled with (⌛) may take longer amounts of time to code\n",
    "\n",
    "Good luck!\n",
    "Start by scrolling down."
   ]
  },
  {
   "cell_type": "markdown",
   "metadata": {},
   "source": [
    "Lets start by importing all our dependencies. Install them if they are not in your project already"
   ]
  },
  {
   "cell_type": "code",
   "execution_count": 1,
   "metadata": {},
   "outputs": [],
   "source": [
    "import os \n",
    "import torch \n",
    "import torch.nn as nn\n",
    "import torchvision\n",
    "from torchvision import datasets\n",
    "from torch.utils.data import DataLoader, Dataset\n",
    "from torchinfo import summary\n",
    "from torchvision.transforms import transforms\n",
    "import matplotlib\n",
    "import matplotlib.pyplot as plt"
   ]
  },
  {
   "cell_type": "markdown",
   "metadata": {},
   "source": [
    "We will use this `transforms.Compose()` method to help us make our dataset into tensors."
   ]
  },
  {
   "cell_type": "code",
   "execution_count": 2,
   "metadata": {},
   "outputs": [],
   "source": [
    "img_transform = transforms.Compose([\n",
    "    transforms.ToTensor(),    \n",
    "])"
   ]
  },
  {
   "cell_type": "markdown",
   "metadata": {},
   "source": [
    "Make our `train_data` and `test_data`. We will be downloading the CIFAR-10 dataset to the root of `\"./data/train\"` or `\"./data/test\"`.\n",
    "\n",
    "NOTE: When writing this out, set the `transform` parameter to our `img_transform."
   ]
  },
  {
   "cell_type": "code",
   "execution_count": null,
   "metadata": {},
   "outputs": [],
   "source": [
    "#CODE HERE"
   ]
  },
  {
   "cell_type": "markdown",
   "metadata": {},
   "source": [
    "Make a `train_loader` dataloader with a batch size of 32."
   ]
  },
  {
   "cell_type": "code",
   "execution_count": null,
   "metadata": {},
   "outputs": [],
   "source": [
    "#CODE HERE"
   ]
  },
  {
   "cell_type": "markdown",
   "metadata": {},
   "source": [
    "Use `iter()` and `next()` method to get the first item of our `train_loader`, then print the shape."
   ]
  },
  {
   "cell_type": "code",
   "execution_count": null,
   "metadata": {},
   "outputs": [],
   "source": [
    "#CODE HERE"
   ]
  },
  {
   "cell_type": "markdown",
   "metadata": {},
   "source": [
    "The code below will show the image "
   ]
  },
  {
   "cell_type": "code",
   "execution_count": null,
   "metadata": {},
   "outputs": [],
   "source": [
    "image, label = next(iter(train_loader))\n",
    "plt.imshow(image[0].permute(1, 2, 0))"
   ]
  },
  {
   "cell_type": "markdown",
   "metadata": {},
   "source": [
    "#PROCEED TO THIS STEP AFTER COMPLETEING 3.gan_model.py\n",
    "We have already trained a model and pushed it to hugging face for you\n",
    "You will be pulling this model and using it locally to run inference below"
   ]
  },
  {
   "cell_type": "code",
   "execution_count": null,
   "metadata": {},
   "outputs": [],
   "source": [
    "from huggingface_hub import snapshot_download\n",
    "import torch\n",
    "from gan_model import ConditionalGenerator\n",
    "\n",
    "# Download the entire repository\n",
    "local_dir = snapshot_download(\n",
    "    repo_id=\"sohumgautam/cifar_gan_model\",\n",
    "    local_dir=\"./downloaded_model\"\n",
    ")\n",
    "\n",
    "# Load models from local directory\n",
    "device = torch.device(\"cuda\" if torch.cuda.is_available() else \"cpu\")\n",
    "\n",
    "generator = ConditionalGenerator(latent_dim=100, num_classes=10)\n",
    "generator.load_state_dict(torch.load(f\"{local_dir}/generator.pth\", map_location=device))\n",
    "generator.to(device)\n",
    "generator.eval()"
   ]
  },
  {
   "cell_type": "code",
   "execution_count": null,
   "metadata": {},
   "outputs": [],
   "source": [
    "import torch\n",
    "import torch.nn as nn\n",
    "import matplotlib.pyplot as plt\n",
    "\n",
    "# Set device\n",
    "device = torch.device(\"cuda\" if torch.cuda.is_available() else \"cpu\")\n",
    "\n",
    "# Create generator\n",
    "generator = ConditionalGenerator(latent_dim=100, num_classes=10)\n",
    "\n",
    "# Load checkpoint if available (otherwise will use untrained weights)\n",
    "checkpoint_path = 'checkpoints/cgan_generator_epoch100.pth'  # Change to your path\n",
    "generator.load_state_dict(torch.load(checkpoint_path, map_location=device, weights_only=False))\n",
    "\n",
    "generator.to(device)\n",
    "generator.eval()\n",
    "\n",
    "# CIFAR-10 class names\n",
    "cifar_classes = ['airplane', 'automobile', 'bird', 'cat', 'deer', \n",
    "                 'dog', 'frog', 'horse', 'ship', 'truck']\n",
    "\n",
    "# Choose a class (0-9)\n",
    "class_idx = 5  # Generate a cat (change to any number 0-9)\n",
    "print(f\"Generating a {cifar_classes[class_idx]}\")\n",
    "\n",
    "# Generate one image\n",
    "with torch.no_grad():\n",
    "    # Create random noise\n",
    "    z = torch.randn(1, 100, device=device)\n",
    "    \n",
    "    # Create class label\n",
    "    label = torch.tensor([class_idx], device=device)\n",
    "    \n",
    "    # Generate image\n",
    "    fake_image = generator(z, label)\n",
    "    \n",
    "    # Convert from [-1,1] to [0,1] range\n",
    "    fake_image = fake_image * 0.5 + 0.5\n",
    "\n",
    "# Display image\n",
    "plt.figure(figsize=(3, 3))\n",
    "plt.imshow(fake_image[0].cpu().permute(1, 2, 0))\n",
    "plt.title(f\"Generated {cifar_classes[class_idx]}\")\n",
    "plt.axis('off')\n",
    "plt.show()"
   ]
  }
 ],
 "metadata": {
  "kernelspec": {
   "display_name": "Python 3",
   "language": "python",
   "name": "python3"
  },
  "language_info": {
   "codemirror_mode": {
    "name": "ipython",
    "version": 3
   },
   "file_extension": ".py",
   "mimetype": "text/x-python",
   "name": "python",
   "nbconvert_exporter": "python",
   "pygments_lexer": "ipython3",
   "version": "3.10.12"
  }
 },
 "nbformat": 4,
 "nbformat_minor": 2
}
