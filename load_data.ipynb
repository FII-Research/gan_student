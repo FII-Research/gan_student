{
 "cells": [
  {
   "cell_type": "code",
   "execution_count": 1,
   "metadata": {},
   "outputs": [],
   "source": [
    "import os \n",
    "import torch \n",
    "import torch.nn as nn\n",
    "import torchvision\n",
    "from torchvision import datasets\n",
    "from torch.utils.data import DataLoader, Dataset\n",
    "from torchinfo import summary\n",
    "from torchvision.transforms import transforms\n",
    "import matplotlib\n",
    "import matplotlib.pyplot as plt"
   ]
  },
  {
   "cell_type": "code",
   "execution_count": 2,
   "metadata": {},
   "outputs": [],
   "source": [
    "img_transform = transforms.Compose([\n",
    "    transforms.ToTensor(),    \n",
    "])"
   ]
  },
  {
   "cell_type": "code",
   "execution_count": null,
   "metadata": {},
   "outputs": [],
   "source": [
    "train_data = datasets.CIFAR10(  # Loads the CIFAR-10 training dataset\n",
    "    root=\"./data/train\",  # Directory where the dataset is stored\n",
    "    train=True,  # Specifies that we want the training set\n",
    "    download=True,  # Downloads the dataset if it is not already available\n",
    "    transform=img_transform  # Applies the defined transformations to the dataset\n",
    ")\n",
    "\n",
    "test_data = datasets.CIFAR10(  # Loads the CIFAR-10 test dataset\n",
    "    root=\"./data/test\",  # Directory where the dataset is stored\n",
    "    train=False,  # Specifies that we want the test set\n",
    "    download=True,  # Downloads the dataset if it is not already available\n",
    "    transform=img_transform  # Applies the same transformations as for the training set\n",
    ")"
   ]
  },
  {
   "cell_type": "code",
   "execution_count": 4,
   "metadata": {},
   "outputs": [],
   "source": [
    "train_loader = DataLoader(train_data, batch_size=32, shuffle=True)\n"
   ]
  },
  {
   "cell_type": "code",
   "execution_count": null,
   "metadata": {},
   "outputs": [],
   "source": [
    "(next(iter(train_loader)))[0].shape"
   ]
  },
  {
   "cell_type": "code",
   "execution_count": 6,
   "metadata": {},
   "outputs": [],
   "source": [
    "image, label = next(iter(train_loader))"
   ]
  },
  {
   "cell_type": "code",
   "execution_count": null,
   "metadata": {},
   "outputs": [],
   "source": [
    "plt.imshow(image[0].permute(1, 2, 0))"
   ]
  },
  {
   "cell_type": "code",
   "execution_count": null,
   "metadata": {},
   "outputs": [],
   "source": [
    "from gan_model import ConditionalGenerator\n",
    "\n",
    "generator = ConditionalGenerator()"
   ]
  },
  {
   "cell_type": "markdown",
   "metadata": {},
   "source": []
  },
  {
   "cell_type": "code",
   "execution_count": null,
   "metadata": {},
   "outputs": [],
   "source": [
    "import torch\n",
    "import torch.nn as nn\n",
    "import matplotlib.pyplot as plt\n",
    "\n",
    "# Set device\n",
    "device = torch.device(\"cuda\" if torch.cuda.is_available() else \"cpu\")\n",
    "\n",
    "# Create generator\n",
    "generator = ConditionalGenerator(latent_dim=100, num_classes=10)\n",
    "\n",
    "# Load checkpoint if available (otherwise will use untrained weights)\n",
    "checkpoint_path = 'checkpoints/cgan_generator_epoch100.pth'  # Change to your path\n",
    "generator.load_state_dict(torch.load(checkpoint_path, map_location=device))\n",
    "\n",
    "generator.to(device)\n",
    "generator.eval()\n",
    "\n",
    "# CIFAR-10 class names\n",
    "cifar_classes = ['airplane', 'automobile', 'bird', 'cat', 'deer', \n",
    "                 'dog', 'frog', 'horse', 'ship', 'truck']\n",
    "\n",
    "# Choose a class (0-9)\n",
    "class_idx = 5  # Generate a cat (change to any number 0-9)\n",
    "print(f\"Generating a {cifar_classes[class_idx]}\")\n",
    "\n",
    "# Generate one image\n",
    "with torch.no_grad():\n",
    "    # Create random noise\n",
    "    z = torch.randn(1, 100, device=device)\n",
    "    \n",
    "    # Create class label\n",
    "    label = torch.tensor([class_idx], device=device)\n",
    "    \n",
    "    # Generate image\n",
    "    fake_image = generator(z, label)\n",
    "    \n",
    "    # Convert from [-1,1] to [0,1] range\n",
    "    fake_image = fake_image * 0.5 + 0.5\n",
    "\n",
    "# Display image\n",
    "plt.figure(figsize=(3, 3))\n",
    "plt.imshow(fake_image[0].cpu().permute(1, 2, 0))\n",
    "plt.title(f\"Generated {cifar_classes[class_idx]}\")\n",
    "plt.axis('off')\n",
    "plt.show()"
   ]
  }
 ],
 "metadata": {
  "kernelspec": {
   "display_name": "Python 3",
   "language": "python",
   "name": "python3"
  },
  "language_info": {
   "codemirror_mode": {
    "name": "ipython",
    "version": 3
   },
   "file_extension": ".py",
   "mimetype": "text/x-python",
   "name": "python",
   "nbconvert_exporter": "python",
   "pygments_lexer": "ipython3",
   "version": "3.10.12"
  }
 },
 "nbformat": 4,
 "nbformat_minor": 2
}
